{
  "nbformat": 4,
  "nbformat_minor": 0,
  "metadata": {
    "colab": {
      "name": "deepdia.ipynb",
      "provenance": [],
      "collapsed_sections": []
    },
    "kernelspec": {
      "name": "python3",
      "display_name": "Python 3"
    },
    "accelerator": "GPU"
  },
  "cells": [
    {
      "cell_type": "code",
      "metadata": {
        "colab": {
          "base_uri": "https://localhost:8080/"
        },
        "id": "-BPmxWTkErwX",
        "outputId": "2ca8691a-1861-4511-bc59-d2b20ff59e4b"
      },
      "source": [
        "from google.colab import drive\r\n",
        "drive.mount('/content/drive')\r\n"
      ],
      "execution_count": null,
      "outputs": []
    },
    {
      "cell_type": "code",
      "metadata": {
        "colab": {
          "base_uri": "https://localhost:8080/"
        },
        "id": "gzpYBIkVNvC2",
        "outputId": "9bcc455d-5392-4f72-97c9-ae8aa6fe75ad"
      },
      "source": [
        "%cd \"/content/drive/My Drive/deepdia\"\r\n",
        "!ls"
      ],
      "execution_count": null,
      "outputs": []
    },
    {
      "cell_type": "code",
      "execution_count": null,
      "metadata": {},
      "outputs": [],
      "source": [
        "!pip install gdown\n",
        "!gdown https://drive.google.com/uc?id=1zx49iDj3BGXPITfDylbSk-asllpBA_Be\n",
        "!unzip -o 'deep-dia-files.zip'\n",
        "!rm 'deep-dia-files.zip'"
      ]
    },
    {
      "cell_type": "code",
      "metadata": {
        "id": "I77JmeJne2PU",
        "colab": {
          "base_uri": "https://localhost:8080/"
        },
        "outputId": "433807b6-afb4-48fb-e3d8-93709ddc4178"
      },
      "source": [
        "#Note: prediction with charge3, if would like to predict with charge2 change the 'charge3' to 'charge2'\r\n",
        "#We put  peptide list, Hela dataset and pretrained model of each charge in its directory \r\n",
        "!python code/deepms2/py/predict.py --charge 'charge3' "
      ],
      "execution_count": null,
      "outputs": []
    },
    {
      "cell_type": "code",
      "metadata": {
        "id": "VMyetsR8G6wW",
        "colab": {
          "base_uri": "https://localhost:8080/"
        },
        "outputId": "feca753f-7fb9-41ec-923a-b08e7dea6334"
      },
      "source": [
        "#compute similarity of ms model for test set\r\n",
        "!python code/deepms2/py/similarity_ion.py --charge 'charge3'"
      ],
      "execution_count": null,
      "outputs": []
    },
    {
      "cell_type": "code",
      "metadata": {
        "id": "rqAbkMlOIjqE"
      },
      "source": [
        "#The trained model will be saved in the model1 folder\r\n",
        "!python code/deepms2/py/train.py --charge 'charge3'"
      ],
      "execution_count": null,
      "outputs": []
    },
    {
      "cell_type": "code",
      "metadata": {
        "colab": {
          "base_uri": "https://localhost:8080/",
          "height": 649
        },
        "id": "54OJc4RtHsoL",
        "outputId": "416d188c-c9b4-499b-f0c9-70264e87df58"
      },
      "source": [
        "!pip install mpl_scatter_density\r\n",
        "!pip install pandas==0.23.4"
      ],
      "execution_count": null,
      "outputs": []
    },
    {
      "cell_type": "code",
      "metadata": {
        "id": "leh3BMfgy9qB",
        "colab": {
          "base_uri": "https://localhost:8080/"
        },
        "outputId": "dbe3ad21-8259-4224-bbce-0cbcd0736664"
      },
      "source": [
        "!python code/deeprt/py/predict.py "
      ],
      "execution_count": null,
      "outputs": []
    },
    {
      "cell_type": "code",
      "metadata": {
        "id": "RxpzXqdMIBMW",
        "colab": {
          "base_uri": "https://localhost:8080/"
        },
        "outputId": "9582c200-5cf4-4e27-fffc-b6b83314ff6f"
      },
      "source": [
        "#test irt model\r\n",
        "!python code/deeprt/py/similarity_irt.py "
      ],
      "execution_count": null,
      "outputs": []
    },
    {
      "cell_type": "code",
      "metadata": {
        "id": "IGNsgyNJJG8z"
      },
      "source": [
        "#train irt prediction model\r\n",
        "!python code/deeprt/py/train.py"
      ],
      "execution_count": null,
      "outputs": []
    }
  ]
}