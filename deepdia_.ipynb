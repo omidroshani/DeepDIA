{
  "nbformat": 4,
  "nbformat_minor": 0,
  "metadata": {
    "colab": {
      "name": "deepdia .ipynb",
      "provenance": [],
      "collapsed_sections": []
    },
    "kernelspec": {
      "name": "python3",
      "display_name": "Python 3"
    },
    "accelerator": "GPU"
  },
  "cells": [
    {
      "cell_type": "code",
      "metadata": {
        "colab": {
          "base_uri": "https://localhost:8080/"
        },
        "id": "-BPmxWTkErwX",
        "outputId": "01c746be-b843-4e26-d35a-7734b80e04e4"
      },
      "source": [
        "from google.colab import drive\r\n",
        "drive.mount('/content/drive')\r\n"
      ],
      "execution_count": null,
      "outputs": [
        {
          "output_type": "stream",
          "text": [
            "Mounted at /content/drive\n"
          ],
          "name": "stdout"
        }
      ]
    },
    {
      "cell_type": "code",
      "metadata": {
        "colab": {
          "base_uri": "https://localhost:8080/"
        },
        "id": "gzpYBIkVNvC2",
        "outputId": "51968aad-dd81-4ff3-b3ca-5884df1eca46"
      },
      "source": [
        "%cd \"/content/drive/My Drive/some_updates/\"\r\n",
        "!ls"
      ],
      "execution_count": null,
      "outputs": [
        {
          "output_type": "stream",
          "text": [
            "/content/drive/.shortcut-targets-by-id/1tFiP4JKV59eZzlJzG7qEtluOA-7kPIFx/some_updates\n",
            " charge2   cosine_similarity_hele2.png\t irt_hele2.png\t requirements.txt\n",
            " charge3  'deepdia .ipynb'\t\t LICENSE\n",
            " code\t   irt\t\t\t\t README.md\n"
          ],
          "name": "stdout"
        }
      ]
    },
    {
      "cell_type": "code",
      "metadata": {
        "id": "I77JmeJne2PU"
      },
      "source": [
        "#predict the MS/MS for charge2 and charge3 by pre-trained models which should be put in \"./charge2\" and \"./charge3\" path, respectively\r\n",
        "# ......................input............................\r\n",
        "#The input format is .csv and it is a  list of peptides sequence like: Peptide_sequences = ['HDGITVAVHK' 'VGSSGDIALHINPR' 'LDHFNFER' ... 'DGFDISGNPWICDQNLSDLYR'\r\n",
        "# 'VYVPALIFGQLLTSSNYDDDEK' 'ISIENEQLVIGSYSQPSDSWDK'] and it should be put in ”./charge2” for prediction with charge2 and in “./charge3” for charge3.\r\n",
        "#..........................output....................\r\n",
        "# the intensity of fragment ions defined in options module (fragments dictionary) are predicted and saved in .Json file\r\n",
        "#Fragments = [‘b1’, False), ('b2', False), \r\n",
        "#      ('bn1', False), ('bn2', False), \r\n",
        "#      ('bo1', False), ('bo2', False), \r\n",
        "#      ('y1', True), ('y2', True), \r\n",
        "#      ('yn1', True), ('yn2', True), \r\n",
        "#      ('yo1', True), ('yo2', True)\r\n",
        "#   ]\r\n",
        "\r\n",
        "# for example in  \"EGMLQHWELGQALR\" which has 13 fragments,  for each ion defined in fragments dictionary such as \"b1\" intensity of b1_0, b1_1,… , b1_12 are calcluted, Thus \"b1\" is:[0,0,189695.2,0,0,43246.49,20217.08,0,0,0,0,0,24175.1] \r\n",
        "#Note: for prediction with charge3 change the 'charge2' to 'charge3' in below\r\n",
        "!python code/deepms2/py/predict.py --charge 'charge2' "
      ],
      "execution_count": null,
      "outputs": []
    },
    {
      "cell_type": "code",
      "metadata": {
        "id": "VMyetsR8G6wW"
      },
      "source": [
        "##.................\r\n",
        "#predict MS/Ms for test set and comparing the predicted values and real values with calculating the dot product between predicted values and real values\r\n",
        "#...............input.................\r\n",
        "#the train set, as input, is put in \".charge2/data\" directory \r\n",
        "#.................output................\r\n",
        "## the outputs are median of similarity matrix and distributions of dot products computed between real and predicted intensities\r\n",
        "!python code/deepms2/py/similarity_ion.py --charge 'charge3'"
      ],
      "execution_count": null,
      "outputs": []
    },
    {
      "cell_type": "code",
      "metadata": {
        "id": "rqAbkMlOIjqE"
      },
      "source": [
        "# train MS/Ms prediction model for \"chrge2\" and \"charge3\"\r\n",
        "\r\n",
        "#.....................input................\r\n",
        "#the input data is put in \"./charge2/data\" and \"./charge3/data\" paths for chrge2 and charge 3, respectively.\r\n",
        "#the format of training data is .json and it contains list of peptides and the intensity of fragment ions. Its format is similar to output of prediction model described in previous cell\r\n",
        "   \r\n",
        "#during the training of charge2, a folder named \"model\" is created in \"./charge2/data/\" path and trained models are saved in this path.\r\n",
        "!python code/deepms2/py/train.py --charge 'charge2'"
      ],
      "execution_count": null,
      "outputs": []
    },
    {
      "cell_type": "code",
      "metadata": {
        "id": "54OJc4RtHsoL"
      },
      "source": [
        "!pip install mpl_scatter_density\r\n",
        "!pip install pandas==0.23.4"
      ],
      "execution_count": null,
      "outputs": []
    },
    {
      "cell_type": "code",
      "metadata": {
        "id": "_yijVYriqybx"
      },
      "source": [
        "#.................\r\n",
        "#predict iRT for test set with pre-trained model \r\n",
        "#pre-trained model is put in \"./irt\" directory\r\n",
        "#...............input.................\r\n",
        "#the peptide list as input is placed in \"./irt\" directory\r\n",
        "#.................output................\r\n",
        "# iRT is saved in \"./irt\" as output\r\n",
        "!python code/deeprt/py/predict.py"
      ],
      "execution_count": null,
      "outputs": []
    },
    {
      "cell_type": "code",
      "metadata": {
        "id": "jTDs16FbtPOG"
      },
      "source": [
        "#.................\r\n",
        "#predict iRT for test set and compare the predicted values with real values by computing Pearson correlation coefficient\r\n",
        "#...............input.................\r\n",
        "#the input is the train dataset of iRT. It is put in \".irt/data\" path\r\n",
        "#.................output................\r\n",
        "# the output is a chart for illustrating correlation coefficient(r) between real and predicted values\r\n",
        "!python code/deeprt/py/similarity_irt.py "
      ],
      "execution_count": null,
      "outputs": []
    },
    {
      "cell_type": "code",
      "metadata": {
        "id": "IGNsgyNJJG8z"
      },
      "source": [
        "### train the iRT prediction model\r\n",
        "\r\n",
        "#.....................input................\r\n",
        "#the input data is put in \"./irt/data\"\r\n",
        "#the format of input (training data) is .csv and it contains peptides sequence, RT and iRT\r\n",
        "   \r\n",
        "#during the training of iRT, a folder named \"model\" is created in \"./irt/data/\" path, and trained models are saved in this path.\r\n",
        "!python code/deeprt/py/train.py"
      ],
      "execution_count": null,
      "outputs": []
    }
  ]
}